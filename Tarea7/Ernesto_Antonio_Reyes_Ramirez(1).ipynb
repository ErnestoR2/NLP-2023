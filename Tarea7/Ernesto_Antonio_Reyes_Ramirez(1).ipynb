{
 "cells": [
  {
   "cell_type": "markdown",
   "id": "d64b4c31",
   "metadata": {},
   "source": [
    "# Ernesto Antonio Reyes Ramírez\n",
    "\n",
    "# Procesamiento de Lenguaje Natural\n",
    "\n",
    "# Tarea 7: Embeddings and CNNs"
   ]
  },
  {
   "cell_type": "markdown",
   "id": "b6e06d69",
   "metadata": {},
   "source": [
    "### Librerías útiles"
   ]
  },
  {
   "cell_type": "code",
   "execution_count": 1,
   "id": "d5bb7568",
   "metadata": {},
   "outputs": [],
   "source": [
    "# Tools\n",
    "import os\n",
    "import time\n",
    "import random\n",
    "import shutil\n",
    "from argparse import Namespace\n",
    "import matplotlib.pyplot as plt\n",
    "from typing import Callable, Tuple\n",
    "\n",
    "# Preprocessing\n",
    "from nltk.tokenize import TweetTokenizer\n",
    "from nltk import FreqDist\n",
    "import pandas as pd\n",
    "import numpy as np\n",
    "\n",
    "# PyTorch\n",
    "from torch.utils.data import DataLoader, Dataset\n",
    "import torch\n",
    "import torch.nn as nn\n",
    "import torch.nn.functional as F\n",
    "from torch.nn.utils.rnn import pad_sequence\n",
    "\n",
    "# scikit-learn\n",
    "from sklearn.model_selection import train_test_split\n",
    "from sklearn.metrics import accuracy_score\n",
    "\n",
    "# word embeddings\n",
    "from gensim.models import Word2Vec\n",
    "from gensim.models.keyedvectors import Word2VecKeyedVectors"
   ]
  },
  {
   "cell_type": "markdown",
   "id": "42fda0df",
   "metadata": {},
   "source": [
    "### Revisamos que podamos usar nuestra GPU local para el entrenamiento"
   ]
  },
  {
   "cell_type": "code",
   "execution_count": 2,
   "id": "f73eff2c",
   "metadata": {},
   "outputs": [
    {
     "name": "stdout",
     "output_type": "stream",
     "text": [
      "There are 1 GPU(s) available.\n",
      "Device name: NVIDIA GeForce RTX 3050 Laptop GPU\n"
     ]
    }
   ],
   "source": [
    "if torch.cuda.is_available():       \n",
    "    device = torch.device(\"cuda\")\n",
    "    print(f'There are {torch.cuda.device_count()} GPU(s) available.')\n",
    "    print('Device name:', torch.cuda.get_device_name(0))\n",
    "\n",
    "else:\n",
    "    print('No GPU available, using the CPU instead.')\n",
    "    device = torch.device(\"cpu\")"
   ]
  },
  {
   "cell_type": "markdown",
   "id": "f7c5c14c",
   "metadata": {},
   "source": [
    "### Importamos word2vec"
   ]
  },
  {
   "cell_type": "code",
   "execution_count": 3,
   "id": "d8ffde0a",
   "metadata": {},
   "outputs": [],
   "source": [
    "#Cargamos el word2vec\n",
    "word2vec_dir = \"word2vec_col_nlp_class_spring_2023/word2vec_col.txt\""
   ]
  },
  {
   "cell_type": "code",
   "execution_count": 4,
   "id": "bd20f41b",
   "metadata": {},
   "outputs": [],
   "source": [
    "full_txt = pd.read_csv(word2vec_dir, sep = '\\r\\n', engine = 'python', header = None).loc[:,0].values.tolist()\n",
    "dimensions = np.array(full_txt[0].split(), dtype = int)\n",
    "full_txt = full_txt[1:]\n",
    "word2vec = dict()\n",
    "for i in range(dimensions[0]):\n",
    "    embedding = full_txt[i].split(' ')\n",
    "    word2vec[embedding[0]] = np.float_(embedding[1:])"
   ]
  },
  {
   "cell_type": "markdown",
   "id": "b6662764",
   "metadata": {},
   "source": [
    "### Fijamos las semillas"
   ]
  },
  {
   "cell_type": "code",
   "execution_count": 5,
   "id": "1883f929",
   "metadata": {},
   "outputs": [],
   "source": [
    "args = Namespace()\n",
    "\n",
    "args.seed = 1111\n",
    "random.seed(args.seed) # python seed\n",
    "np.random.seed(args.seed) # numpy seed\n",
    "torch.manual_seed(args.seed) # torch seed\n",
    "torch.backends.cudnn.benchmark = False # causes cuDNN to deterministically select algorithms for Neural Network operations\n",
    "torch.backends.cudnn.deterministic = True # Use deterministic algorithms instead of non-deterministic where available"
   ]
  },
  {
   "cell_type": "markdown",
   "id": "62643f50",
   "metadata": {},
   "source": [
    "### Cargamos la base de datos y la procesamos"
   ]
  },
  {
   "cell_type": "code",
   "execution_count": 6,
   "id": "e441aee2",
   "metadata": {},
   "outputs": [
    {
     "name": "stderr",
     "output_type": "stream",
     "text": [
      "Downloading...\n",
      "From: https://drive.google.com/uc?id=1CL2rtDbi7HU1OY8JNrgIlq5TYVhgvAzZ\n",
      "To: C:\\Users\\ernes\\OneDrive\\Documentos\\Maestría-CIMAT\\Segundo\\NLP\\Tareas\\Tarea7\\mex-a3t.zip\n",
      "\n",
      "  0%|          | 0.00/234k [00:00<?, ?B/s]\n",
      "100%|##########| 234k/234k [00:00<00:00, 4.01MB/s]\n"
     ]
    }
   ],
   "source": [
    "!gdown https://drive.google.com/uc?id=1CL2rtDbi7HU1OY8JNrgIlq5TYVhgvAzZ"
   ]
  },
  {
   "cell_type": "code",
   "execution_count": 7,
   "id": "66711883",
   "metadata": {},
   "outputs": [],
   "source": [
    "import zipfile\n",
    "with zipfile.ZipFile(\"mex-a3t.zip\", 'r') as zip_ref:\n",
    "    zip_ref.extractall(\"C:/Users/ernes/OneDrive/Documentos/Maestría-CIMAT/Segundo/NLP/Tareas/Tarea7\")"
   ]
  },
  {
   "cell_type": "code",
   "execution_count": 8,
   "id": "c89923b5",
   "metadata": {},
   "outputs": [],
   "source": [
    "args.val_size = 0.1"
   ]
  },
  {
   "cell_type": "code",
   "execution_count": 9,
   "id": "6cbf073a",
   "metadata": {},
   "outputs": [],
   "source": [
    "X_train = pd.read_csv('mex_train.txt', sep='\\r\\n', engine='python', header=None).loc[:,0]\n",
    "y_train = pd.read_csv('mex_train_labels.txt', header=None).loc[:,0]\n",
    "#.values.tolist()\n",
    "\n",
    "X_train, X_val, y_train, y_val = train_test_split(X_train, y_train, test_size=args.val_size, random_state=args.seed)\n",
    "\n",
    "X_test = pd.read_csv('mex_val.txt', sep='\\r\\n', engine='python', header=None).loc[:,0]\n",
    "y_test = pd.read_csv('mex_val_labels.txt', header=None).loc[:,0]"
   ]
  },
  {
   "cell_type": "code",
   "execution_count": 10,
   "id": "188f5a03",
   "metadata": {},
   "outputs": [],
   "source": [
    "def get_vocab(corpus: pd.DataFrame,\n",
    "              tokenizer: Callable[[str], list],\n",
    "              max_features: int) -> set:\n",
    "    freq_dist = FreqDist([w.lower() for sentence in corpus\\\n",
    "                                    for w in tokenizer(sentence)])\n",
    "    \n",
    "    sorted_words = sortFreqDict(freq_dist)[:min(max_features-1, len(freq_dist))]\n",
    "    w2idx = {word: i+1 for i, word in enumerate(sorted_words)}\n",
    "\n",
    "    # Append <pad> token with 0 index\n",
    "    sorted_words.append('<pad>')\n",
    "    w2idx['<pad>'] = 0\n",
    "\n",
    "    return set(sorted_words), w2idx\n",
    "        \n",
    "def sortFreqDict(freq_dist: FreqDist) -> list:\n",
    "    freq_dict = dict(freq_dist)\n",
    "    return sorted(freq_dict, key=freq_dict.get, reverse=True)"
   ]
  },
  {
   "cell_type": "code",
   "execution_count": 11,
   "id": "4ba934b6",
   "metadata": {},
   "outputs": [],
   "source": [
    "# Set vocab size\n",
    "args.vocab_size = 5000\n",
    "\n",
    "tk = TweetTokenizer()\n",
    "vocab, w2idx = get_vocab(X_train, tk.tokenize, args.vocab_size)"
   ]
  },
  {
   "cell_type": "code",
   "execution_count": 12,
   "id": "e39160f8",
   "metadata": {},
   "outputs": [],
   "source": [
    "# Vamos a crear la matriz de embeddings con base en word2vec\n",
    "\n",
    "args.d = 100 # Dimension of word embeddings\n",
    "\n",
    "matrix_embeddings = np.empty([args.vocab_size,args.d])\n",
    "\n",
    "for word in vocab:\n",
    "    if word in word2vec:\n",
    "        matrix_embeddings[w2idx[word]] = word2vec[word]\n",
    "    else:\n",
    "        matrix_embeddings[w2idx[word]] = np.random.rand(args.d)"
   ]
  },
  {
   "cell_type": "markdown",
   "id": "d07bcc71",
   "metadata": {},
   "source": [
    "### Define Dataset, collate_fn and Dataloader"
   ]
  },
  {
   "cell_type": "code",
   "execution_count": 13,
   "id": "f7927239",
   "metadata": {},
   "outputs": [],
   "source": [
    "class TweeterDataset(Dataset):\n",
    "    def __init__(self,\n",
    "                 X: pd.DataFrame,\n",
    "                 y: pd.DataFrame,\n",
    "                 vocab: set,\n",
    "                 w2idx: dict,\n",
    "                 tokenizer: Callable[[str], list],\n",
    "                 max_seq_len: int):\n",
    "        self.X = X\n",
    "        self.y = y\n",
    "        self.vocab = vocab\n",
    "        self.w2idx = w2idx\n",
    "        self.tokenizer = tokenizer\n",
    "        self.max_seq_len = max_seq_len\n",
    "    \n",
    "    def __len__(self):\n",
    "        return self.X.shape[0]\n",
    "\n",
    "    def __getitem__(self, idx):\n",
    "        # Get sequence of token ids\n",
    "        sentence = self.X.iloc[idx]\n",
    "        tokens = [self.w2idx[w] for w in self.tokenizer(sentence) if w in self.vocab]\n",
    "\n",
    "        # Truncate sequence up to max_seq_len\n",
    "        truncate_len = min(len(tokens), self.max_seq_len)\n",
    "        tokens = tokens[:truncate_len]\n",
    "\n",
    "        # Get true label\n",
    "        label = self.y.iloc[idx]\n",
    "\n",
    "        return torch.LongTensor(tokens), torch.LongTensor([label])"
   ]
  },
  {
   "cell_type": "code",
   "execution_count": 14,
   "id": "258744f3",
   "metadata": {},
   "outputs": [],
   "source": [
    "def collate_fn(batch):\n",
    "    # Get X\n",
    "    batch_tokens = [row[0] for row in batch]\n",
    "    # Get y\n",
    "    batch_labels = torch.LongTensor([row[1] for row in batch]).to(torch.float)\n",
    "\n",
    "    # Pad with 0 (to the rigth) shorter sequences than max_seq_len\n",
    "    padded_batch_tokens = pad_sequence(batch_tokens, batch_first=True)\n",
    "\n",
    "    return padded_batch_tokens, batch_labels.unsqueeze(1)"
   ]
  },
  {
   "cell_type": "code",
   "execution_count": 15,
   "id": "78e9e702",
   "metadata": {},
   "outputs": [],
   "source": [
    "# Set batch size in args\n",
    "args.batch_size = 64\n",
    "\n",
    "# Num workers\n",
    "args.num_workers = 0\n",
    "\n",
    "# Maximum sequence length\n",
    "args.max_seq_len = 20"
   ]
  },
  {
   "cell_type": "code",
   "execution_count": 16,
   "id": "baa69a12",
   "metadata": {},
   "outputs": [],
   "source": [
    "# Training\n",
    "train_dataset = TweeterDataset(X_train, y_train, vocab, w2idx, tk.tokenize, args.max_seq_len)\n",
    "train_loader = DataLoader(train_dataset,\n",
    "                          batch_size=args.batch_size,\n",
    "                          num_workers=args.num_workers,\n",
    "                          collate_fn=collate_fn,\n",
    "                          shuffle=True)\n",
    "\n",
    "# Validation\n",
    "val_dataset = TweeterDataset(X_val, y_val, vocab, w2idx, tk.tokenize, args.max_seq_len)\n",
    "val_loader = DataLoader(val_dataset,\n",
    "                          batch_size=args.batch_size,\n",
    "                          num_workers=args.num_workers,\n",
    "                          collate_fn=collate_fn,\n",
    "                          shuffle=False)\n",
    "\n",
    "# Test\n",
    "test_dataset = TweeterDataset(X_test, y_test, vocab, w2idx, tk.tokenize, args.max_seq_len)\n",
    "test_loader = DataLoader(test_dataset,\n",
    "                          batch_size=args.batch_size,\n",
    "                          num_workers=args.num_workers,\n",
    "                          collate_fn=collate_fn,\n",
    "                          shuffle=False)"
   ]
  },
  {
   "cell_type": "code",
   "execution_count": 17,
   "id": "b7a97785",
   "metadata": {},
   "outputs": [
    {
     "name": "stdout",
     "output_type": "stream",
     "text": [
      "X_batch shape: torch.Size([64, 20])\n",
      "y_batch shape: torch.Size([64, 1])\n"
     ]
    }
   ],
   "source": [
    "batch_ = next(iter(train_loader))\n",
    "print(f'X_batch shape: {batch_[0].shape}')\n",
    "print(f'y_batch shape: {batch_[1].shape}')"
   ]
  },
  {
   "cell_type": "markdown",
   "id": "48ce779d",
   "metadata": {},
   "source": [
    "### Clase de nuestro modelo convolucional"
   ]
  },
  {
   "cell_type": "code",
   "execution_count": 18,
   "id": "f9a57c0e",
   "metadata": {},
   "outputs": [],
   "source": [
    "class CNNTextCls(nn.Module):\n",
    "    def __init__(self, args, embeddings=None, freeze=False):\n",
    "        super(CNNTextCls, self).__init__()\n",
    "        \n",
    "        if embeddings is not None:\n",
    "            self.emb = nn.Embedding(args.vocab_size, args.d)\n",
    "            for i in range(embeddings.shape[0]):\n",
    "                for j in range(embeddings.shape[1]):\n",
    "                    self.emb.weight.data[i][j] = embeddings[i][j]\n",
    "            \n",
    "            if freeze:\n",
    "                self.emb.weight.requires_grad=False\n",
    "                \n",
    "        else:\n",
    "            self.emb = nn.Embedding(args.vocab_size, args.d)\n",
    "        \n",
    "        conv_block_list = []\n",
    "\n",
    "        for k in args.filter_sizes:\n",
    "            conv_block = nn.Sequential(\n",
    "                nn.Conv1d(in_channels=args.d, out_channels=args.num_filters, kernel_size=k, stride=1),\n",
    "                nn.ReLU(),\n",
    "                nn.MaxPool1d(kernel_size=(args.max_seq_len-k+1))\n",
    "            )\n",
    "            conv_block_list.append(conv_block)\n",
    "\n",
    "        self.conv_block_list = nn.ModuleList(conv_block_list)\n",
    "        self.dropout = nn.Dropout(args.dropout)\n",
    "        self.fc = nn.Linear(args.num_filters*len(args.filter_sizes), 1)\n",
    "\n",
    "    def forward(self, x):\n",
    "        '''\n",
    "        B: batch size\n",
    "        L: sequence length\n",
    "        D: embedding dim\n",
    "        C: Convolution output channels (number of filters)\n",
    "        k: Convolution kernel size\n",
    "        N: Number of convolution blocks\n",
    "\n",
    "        x shape: (B, L)\n",
    "        '''\n",
    "        x = self.emb(x) # (B, L, D)\n",
    "        x = x.transpose(1,2) # (B, D, L) conv1d expects L in last dimension\n",
    "\n",
    "        x_filter = []\n",
    "        for conv_block in self.conv_block_list: # Conv1d -> ReLU -> MaxPool1d\n",
    "            x_filter.append(conv_block(x).squeeze(2)) # (B, C, L-k+1) -> ReLU -> (B, C, 1) -> (B, C) after squeeze\n",
    "\n",
    "        x_cat = torch.cat(x_filter, dim=1) # (B, C*N)\n",
    "        x = self.dropout(x_cat)\n",
    "        return self.fc(x)"
   ]
  },
  {
   "cell_type": "markdown",
   "id": "dce9365a",
   "metadata": {},
   "source": [
    "### Función para evaluar el modelo"
   ]
  },
  {
   "cell_type": "code",
   "execution_count": 19,
   "id": "4988d75a",
   "metadata": {},
   "outputs": [],
   "source": [
    "def model_eval(data, model, gpu=False):\n",
    "    with torch.no_grad():\n",
    "        preds, tgts = [], []\n",
    "        for input, labels in data:\n",
    "            if gpu:\n",
    "                input = input.cuda()\n",
    "            \n",
    "            outputs = model(input)\n",
    "\n",
    "            # Get prediction for Accuracy\n",
    "            y_pred = y_pred = torch.round(torch.sigmoid(outputs.detach())).cpu().numpy()\n",
    "\n",
    "            tgt = labels.numpy()\n",
    "            tgts.append(tgt)\n",
    "            preds.append(y_pred)\n",
    "\n",
    "    tgts = [e for l in tgts for e in l]\n",
    "    preds = [e for l in preds for e in l]\n",
    "\n",
    "    metrics = {\n",
    "        \"accuracy\": accuracy_score(tgts, preds),\n",
    "    }\n",
    "    \n",
    "    return metrics"
   ]
  },
  {
   "cell_type": "code",
   "execution_count": 20,
   "id": "d605a7d1",
   "metadata": {},
   "outputs": [],
   "source": [
    "def save_checkpoint(state, is_best, checkpoint_path, filename=\"checkpoint.pt\"):\n",
    "    filename = os.path.join(checkpoint_path, filename)\n",
    "    torch.save(state, filename)\n",
    "    if is_best:\n",
    "        shutil.copyfile(filename, os.path.join(checkpoint_path, \"model_best.pt\"))"
   ]
  },
  {
   "cell_type": "markdown",
   "id": "f7074f5b",
   "metadata": {},
   "source": [
    "### Función de entrenamiento"
   ]
  },
  {
   "cell_type": "code",
   "execution_count": 21,
   "id": "d4fb653d",
   "metadata": {},
   "outputs": [],
   "source": [
    "def train(args, model, train_loader, val_loader, optimizer, criterion, scheduler):\n",
    "    best_metric = 0\n",
    "    metric_history = []\n",
    "    train_metric_history = []\n",
    "\n",
    "    for epoch in range(args.num_epochs):\n",
    "        epoch_start_time = time.time()\n",
    "        loss_epoch = []\n",
    "        training_metrics = []\n",
    "        model.train()\n",
    "\n",
    "        for input, labels in train_loader:\n",
    "            # If GPU available\n",
    "            if args.use_gpu:\n",
    "                input = input.cuda()\n",
    "                labels = labels.cuda()\n",
    "\n",
    "            # Forward pass\n",
    "            outputs = model(input)\n",
    "\n",
    "            loss = criterion(outputs, labels)\n",
    "            loss_epoch.append(loss.item())\n",
    "\n",
    "            # Get training metric\n",
    "            preds = torch.round(torch.sigmoid(outputs.detach())).cpu().numpy()\n",
    "            training_metrics.append(accuracy_score(labels.cpu().numpy(), preds))\n",
    "            \n",
    "            # Backward and optimize\n",
    "            optimizer.zero_grad()\n",
    "            loss.backward()\n",
    "            optimizer.step()\n",
    "\n",
    "        # Get metric in training dataset\n",
    "        mean_epoch_accuracy = np.mean(training_metrics)\n",
    "        train_metric_history.append(mean_epoch_accuracy)\n",
    "        \n",
    "        # Get metric in validation dataset\n",
    "        model.eval()\n",
    "        tuning_metric = model_eval(val_loader, model, gpu=args.use_gpu)\n",
    "        metric_history.append(tuning_metric['accuracy'])\n",
    "\n",
    "        # Update scheduler\n",
    "        scheduler.step(tuning_metric['accuracy'])\n",
    "\n",
    "        # Check for metric improvement\n",
    "        is_improvement = tuning_metric['accuracy'] > best_metric\n",
    "        if is_improvement:\n",
    "            best_metric = tuning_metric['accuracy']\n",
    "            n_no_improve = 0\n",
    "        else:\n",
    "            n_no_improve += 1\n",
    "\n",
    "        # Save best model if metric improved\n",
    "        save_checkpoint(\n",
    "            {\n",
    "                \"epoch\": epoch + 1,\n",
    "                \"state_dict\": model.state_dict(),\n",
    "                \"optimizer\": optimizer.state_dict(),\n",
    "                \"scheduler\": scheduler.state_dict(),\n",
    "                \"best_metric\": best_metric,\n",
    "            },\n",
    "            is_improvement,\n",
    "            args.savedir,\n",
    "        )\n",
    "\n",
    "        # Early stopping\n",
    "        if n_no_improve >= args.patience:\n",
    "            print(\"No improvement. Breaking out of loop.\")\n",
    "            break\n",
    "\n",
    "        print ('Epoch [{}/{}], Loss: {:.4f} - Train Accuracy: {:.4f} - Val Accuracy: {:.4f} - Epoch time: {:.2f} s'\n",
    "            .format(epoch+1, args.num_epochs, np.mean(loss_epoch), mean_epoch_accuracy, tuning_metric['accuracy'], (time.time()- epoch_start_time)))\n",
    "        \n",
    "    return train_metric_history, metric_history"
   ]
  },
  {
   "cell_type": "markdown",
   "id": "6f6dadbc",
   "metadata": {},
   "source": [
    "# CNN-rand"
   ]
  },
  {
   "cell_type": "code",
   "execution_count": 24,
   "id": "f7b2cf27",
   "metadata": {},
   "outputs": [],
   "source": [
    "# Model hyperparameters\n",
    "args.filter_sizes = [3, 4, 5]\n",
    "args.num_filters = 100\n",
    "args.dropout = 0.1\n",
    "\n",
    "# Training hyperparameters\n",
    "args.lr = 1e-2\n",
    "args.num_epochs = 100\n",
    "args.patience = 10\n",
    "\n",
    "# Scheduler hyperparameters\n",
    "args.lr_patience = 5\n",
    "args.lr_factor = 0.5\n",
    "\n",
    "# Saving directory\n",
    "args.savedir = 'rand_model'\n",
    "os.makedirs(args.savedir, exist_ok=True)\n",
    "\n",
    "# Create model\n",
    "model = CNNTextCls(args)  #Solo pasamos el modelo \n",
    "\n",
    "# Send to GPU\n",
    "args.use_gpu = torch.cuda.is_available()\n",
    "if args.use_gpu:\n",
    "    model.cuda()\n",
    "\n",
    "# Loss, Optimizer and Scheduler\n",
    "criterion = nn.BCEWithLogitsLoss()\n",
    "optimizer = torch.optim.SGD(model.parameters(), lr=args.lr)\n",
    "scheduler = torch.optim.lr_scheduler.ReduceLROnPlateau(\n",
    "                optimizer, \"max\",\n",
    "                patience=args.lr_patience,\n",
    "                verbose=True,\n",
    "                factor=args.lr_factor\n",
    "            )"
   ]
  },
  {
   "cell_type": "code",
   "execution_count": 25,
   "id": "9f592fce",
   "metadata": {},
   "outputs": [
    {
     "name": "stdout",
     "output_type": "stream",
     "text": [
      "Epoch [1/100], Loss: 0.6593 - Train Accuracy: 0.6328 - Val Accuracy: 0.6757 - Epoch time: 1.72 s\n",
      "Epoch [2/100], Loss: 0.6402 - Train Accuracy: 0.6460 - Val Accuracy: 0.6811 - Epoch time: 0.82 s\n",
      "Epoch [3/100], Loss: 0.6236 - Train Accuracy: 0.6598 - Val Accuracy: 0.6919 - Epoch time: 0.82 s\n",
      "Epoch [4/100], Loss: 0.6126 - Train Accuracy: 0.6686 - Val Accuracy: 0.6919 - Epoch time: 0.80 s\n",
      "Epoch [5/100], Loss: 0.5948 - Train Accuracy: 0.6799 - Val Accuracy: 0.7009 - Epoch time: 0.86 s\n",
      "Epoch [6/100], Loss: 0.5824 - Train Accuracy: 0.6979 - Val Accuracy: 0.7045 - Epoch time: 0.81 s\n",
      "Epoch [7/100], Loss: 0.5643 - Train Accuracy: 0.7202 - Val Accuracy: 0.7099 - Epoch time: 0.80 s\n",
      "Epoch [8/100], Loss: 0.5471 - Train Accuracy: 0.7294 - Val Accuracy: 0.7117 - Epoch time: 0.81 s\n",
      "Epoch [9/100], Loss: 0.5339 - Train Accuracy: 0.7431 - Val Accuracy: 0.7099 - Epoch time: 0.83 s\n",
      "Epoch [10/100], Loss: 0.5169 - Train Accuracy: 0.7555 - Val Accuracy: 0.7297 - Epoch time: 0.85 s\n",
      "Epoch [11/100], Loss: 0.5101 - Train Accuracy: 0.7586 - Val Accuracy: 0.7279 - Epoch time: 0.80 s\n",
      "Epoch [12/100], Loss: 0.4870 - Train Accuracy: 0.7766 - Val Accuracy: 0.7261 - Epoch time: 0.81 s\n",
      "Epoch [13/100], Loss: 0.4780 - Train Accuracy: 0.7801 - Val Accuracy: 0.7387 - Epoch time: 0.80 s\n",
      "Epoch [14/100], Loss: 0.4645 - Train Accuracy: 0.7925 - Val Accuracy: 0.7279 - Epoch time: 0.84 s\n",
      "Epoch [15/100], Loss: 0.4475 - Train Accuracy: 0.8034 - Val Accuracy: 0.7297 - Epoch time: 0.90 s\n",
      "Epoch [16/100], Loss: 0.4377 - Train Accuracy: 0.8122 - Val Accuracy: 0.7369 - Epoch time: 0.89 s\n",
      "Epoch [17/100], Loss: 0.4166 - Train Accuracy: 0.8192 - Val Accuracy: 0.7423 - Epoch time: 0.84 s\n",
      "Epoch [18/100], Loss: 0.4020 - Train Accuracy: 0.8334 - Val Accuracy: 0.7514 - Epoch time: 0.79 s\n",
      "Epoch [19/100], Loss: 0.3920 - Train Accuracy: 0.8372 - Val Accuracy: 0.7477 - Epoch time: 0.79 s\n",
      "Epoch [20/100], Loss: 0.3781 - Train Accuracy: 0.8517 - Val Accuracy: 0.7459 - Epoch time: 0.79 s\n",
      "Epoch [21/100], Loss: 0.3686 - Train Accuracy: 0.8559 - Val Accuracy: 0.7459 - Epoch time: 0.78 s\n",
      "Epoch [22/100], Loss: 0.3516 - Train Accuracy: 0.8627 - Val Accuracy: 0.7514 - Epoch time: 0.79 s\n",
      "Epoch [23/100], Loss: 0.3342 - Train Accuracy: 0.8777 - Val Accuracy: 0.7495 - Epoch time: 0.80 s\n",
      "Epoch 00024: reducing learning rate of group 0 to 5.0000e-03.\n",
      "Epoch [24/100], Loss: 0.3222 - Train Accuracy: 0.8833 - Val Accuracy: 0.7514 - Epoch time: 0.81 s\n",
      "Epoch [25/100], Loss: 0.3070 - Train Accuracy: 0.8950 - Val Accuracy: 0.7550 - Epoch time: 0.79 s\n",
      "Epoch [26/100], Loss: 0.3067 - Train Accuracy: 0.8863 - Val Accuracy: 0.7550 - Epoch time: 0.78 s\n",
      "Epoch [27/100], Loss: 0.3023 - Train Accuracy: 0.8893 - Val Accuracy: 0.7586 - Epoch time: 0.79 s\n",
      "Epoch [28/100], Loss: 0.2946 - Train Accuracy: 0.8984 - Val Accuracy: 0.7568 - Epoch time: 0.80 s\n",
      "Epoch [29/100], Loss: 0.2872 - Train Accuracy: 0.8970 - Val Accuracy: 0.7550 - Epoch time: 0.80 s\n",
      "Epoch [30/100], Loss: 0.2798 - Train Accuracy: 0.9128 - Val Accuracy: 0.7532 - Epoch time: 0.85 s\n",
      "Epoch [31/100], Loss: 0.2708 - Train Accuracy: 0.9076 - Val Accuracy: 0.7550 - Epoch time: 0.80 s\n",
      "Epoch [32/100], Loss: 0.2712 - Train Accuracy: 0.9056 - Val Accuracy: 0.7604 - Epoch time: 0.82 s\n",
      "Epoch [33/100], Loss: 0.2648 - Train Accuracy: 0.9156 - Val Accuracy: 0.7622 - Epoch time: 0.79 s\n",
      "Epoch [34/100], Loss: 0.2576 - Train Accuracy: 0.9198 - Val Accuracy: 0.7622 - Epoch time: 0.88 s\n",
      "Epoch [35/100], Loss: 0.2534 - Train Accuracy: 0.9192 - Val Accuracy: 0.7604 - Epoch time: 0.84 s\n",
      "Epoch [36/100], Loss: 0.2542 - Train Accuracy: 0.9196 - Val Accuracy: 0.7532 - Epoch time: 0.96 s\n",
      "Epoch [37/100], Loss: 0.2423 - Train Accuracy: 0.9285 - Val Accuracy: 0.7640 - Epoch time: 0.81 s\n",
      "Epoch [38/100], Loss: 0.2357 - Train Accuracy: 0.9258 - Val Accuracy: 0.7550 - Epoch time: 0.82 s\n",
      "Epoch [39/100], Loss: 0.2336 - Train Accuracy: 0.9277 - Val Accuracy: 0.7676 - Epoch time: 0.79 s\n",
      "Epoch [40/100], Loss: 0.2317 - Train Accuracy: 0.9317 - Val Accuracy: 0.7622 - Epoch time: 0.80 s\n",
      "Epoch [41/100], Loss: 0.2210 - Train Accuracy: 0.9373 - Val Accuracy: 0.7730 - Epoch time: 0.81 s\n",
      "Epoch [42/100], Loss: 0.2198 - Train Accuracy: 0.9356 - Val Accuracy: 0.7694 - Epoch time: 0.81 s\n",
      "Epoch [43/100], Loss: 0.2180 - Train Accuracy: 0.9355 - Val Accuracy: 0.7694 - Epoch time: 0.82 s\n",
      "Epoch [44/100], Loss: 0.2070 - Train Accuracy: 0.9417 - Val Accuracy: 0.7586 - Epoch time: 0.79 s\n",
      "Epoch [45/100], Loss: 0.2091 - Train Accuracy: 0.9423 - Val Accuracy: 0.7712 - Epoch time: 0.80 s\n",
      "Epoch [46/100], Loss: 0.2054 - Train Accuracy: 0.9381 - Val Accuracy: 0.7748 - Epoch time: 0.81 s\n",
      "Epoch [47/100], Loss: 0.1981 - Train Accuracy: 0.9469 - Val Accuracy: 0.7586 - Epoch time: 0.80 s\n",
      "Epoch [48/100], Loss: 0.1937 - Train Accuracy: 0.9491 - Val Accuracy: 0.7712 - Epoch time: 0.79 s\n",
      "Epoch [49/100], Loss: 0.1863 - Train Accuracy: 0.9551 - Val Accuracy: 0.7658 - Epoch time: 0.79 s\n",
      "Epoch [50/100], Loss: 0.1856 - Train Accuracy: 0.9545 - Val Accuracy: 0.7604 - Epoch time: 0.78 s\n",
      "Epoch [51/100], Loss: 0.1833 - Train Accuracy: 0.9553 - Val Accuracy: 0.7748 - Epoch time: 0.79 s\n",
      "Epoch 00052: reducing learning rate of group 0 to 2.5000e-03.\n",
      "Epoch [52/100], Loss: 0.1741 - Train Accuracy: 0.9595 - Val Accuracy: 0.7658 - Epoch time: 0.80 s\n",
      "Epoch [53/100], Loss: 0.1725 - Train Accuracy: 0.9599 - Val Accuracy: 0.7676 - Epoch time: 0.82 s\n",
      "Epoch [54/100], Loss: 0.1680 - Train Accuracy: 0.9589 - Val Accuracy: 0.7676 - Epoch time: 0.85 s\n",
      "Epoch [55/100], Loss: 0.1694 - Train Accuracy: 0.9609 - Val Accuracy: 0.7676 - Epoch time: 0.88 s\n",
      "No improvement. Breaking out of loop.\n",
      "Total training time: 46.7422 seconds\n"
     ]
    }
   ],
   "source": [
    "start_time = time.time()\n",
    "train_metric_history_rand, val_metric_history_rand = train(args, model, train_loader, val_loader, optimizer, criterion, scheduler)\n",
    "print(\"Total training time: {:.4f} seconds\".format((time.time() - start_time)))"
   ]
  },
  {
   "cell_type": "code",
   "execution_count": 26,
   "id": "7fb9640d",
   "metadata": {},
   "outputs": [
    {
     "name": "stdout",
     "output_type": "stream",
     "text": [
      "\n",
      "Test Accuracy: 0.7451\n"
     ]
    }
   ],
   "source": [
    "model.load_state_dict(torch.load('rand_model/model_best.pt')['state_dict'])\n",
    "model.eval()\n",
    "test_metric_rand = model_eval(test_loader, model, gpu=args.use_gpu)\n",
    "print(\"\\nTest Accuracy: {:.4f}\".format(test_metric_rand[\"accuracy\"]))"
   ]
  },
  {
   "cell_type": "code",
   "execution_count": 27,
   "id": "f49124e9",
   "metadata": {},
   "outputs": [
    {
     "data": {
      "image/png": "[encoded data removed]",
      "text/plain": [
       "<Figure size 640x480 with 1 Axes>"
      ]
     },
     "metadata": {},
     "output_type": "display_data"
    }
   ],
   "source": [
    "plt.plot(train_metric_history_rand, label='train')\n",
    "plt.plot(val_metric_history_rand, label='val')\n",
    "plt.title('CNN Classifier')\n",
    "plt.ylabel('Accuracy')\n",
    "plt.xlabel('# epoch')\n",
    "plt.legend(loc='best')\n",
    "plt.show()"
   ]
  },
  {
   "cell_type": "markdown",
   "id": "062af7ed",
   "metadata": {},
   "source": [
    "# CNN-static"
   ]
  },
  {
   "cell_type": "code",
   "execution_count": 28,
   "id": "4ed6c3f5",
   "metadata": {},
   "outputs": [],
   "source": [
    "# Model hyperparameters\n",
    "args.filter_sizes = [3, 4, 5]\n",
    "args.num_filters = 100\n",
    "args.dropout = 0.1\n",
    "\n",
    "# Training hyperparameters\n",
    "args.lr = 1e-2\n",
    "args.num_epochs = 100\n",
    "args.patience = 10\n",
    "\n",
    "# Scheduler hyperparameters\n",
    "args.lr_patience = 5\n",
    "args.lr_factor = 0.5\n",
    "\n",
    "# Saving directory\n",
    "args.savedir = 'static_model'\n",
    "os.makedirs(args.savedir, exist_ok=True)\n",
    "\n",
    "# Create model\n",
    "model = CNNTextCls(args, matrix_embeddings, freeze=True)  #Aqui al hacer freeze=true hacemos que los embeddings no se entrenen\n",
    "\n",
    "# Send to GPU\n",
    "args.use_gpu = torch.cuda.is_available()\n",
    "if args.use_gpu:\n",
    "    model.cuda()\n",
    "\n",
    "# Loss, Optimizer and Scheduler\n",
    "criterion = nn.BCEWithLogitsLoss()\n",
    "optimizer = torch.optim.SGD(model.parameters(), lr=args.lr)\n",
    "scheduler = torch.optim.lr_scheduler.ReduceLROnPlateau(\n",
    "                optimizer, \"max\",\n",
    "                patience=args.lr_patience,\n",
    "                verbose=True,\n",
    "                factor=args.lr_factor\n",
    "            )"
   ]
  },
  {
   "cell_type": "code",
   "execution_count": 29,
   "id": "b7c37d1e",
   "metadata": {},
   "outputs": [
    {
     "name": "stdout",
     "output_type": "stream",
     "text": [
      "Epoch [1/100], Loss: 1.1686 - Train Accuracy: 0.5911 - Val Accuracy: 0.7315 - Epoch time: 0.90 s\n",
      "Epoch [2/100], Loss: 0.7077 - Train Accuracy: 0.6545 - Val Accuracy: 0.7279 - Epoch time: 0.86 s\n",
      "Epoch [3/100], Loss: 0.5387 - Train Accuracy: 0.7365 - Val Accuracy: 0.7586 - Epoch time: 0.88 s\n",
      "Epoch [4/100], Loss: 0.5065 - Train Accuracy: 0.7508 - Val Accuracy: 0.6973 - Epoch time: 0.88 s\n",
      "Epoch [5/100], Loss: 0.4765 - Train Accuracy: 0.7729 - Val Accuracy: 0.7495 - Epoch time: 0.86 s\n",
      "Epoch [6/100], Loss: 0.4426 - Train Accuracy: 0.8004 - Val Accuracy: 0.7748 - Epoch time: 0.86 s\n",
      "Epoch [7/100], Loss: 0.4222 - Train Accuracy: 0.8089 - Val Accuracy: 0.7387 - Epoch time: 0.86 s\n",
      "Epoch [8/100], Loss: 0.3954 - Train Accuracy: 0.8226 - Val Accuracy: 0.7423 - Epoch time: 0.84 s\n",
      "Epoch [9/100], Loss: 0.3585 - Train Accuracy: 0.8427 - Val Accuracy: 0.7279 - Epoch time: 0.88 s\n",
      "Epoch [10/100], Loss: 0.3412 - Train Accuracy: 0.8547 - Val Accuracy: 0.7459 - Epoch time: 0.84 s\n",
      "Epoch [11/100], Loss: 0.3095 - Train Accuracy: 0.8731 - Val Accuracy: 0.7712 - Epoch time: 0.93 s\n",
      "Epoch 00012: reducing learning rate of group 0 to 5.0000e-03.\n",
      "Epoch [12/100], Loss: 0.2873 - Train Accuracy: 0.8843 - Val Accuracy: 0.7586 - Epoch time: 0.91 s\n",
      "Epoch [13/100], Loss: 0.2584 - Train Accuracy: 0.9060 - Val Accuracy: 0.7784 - Epoch time: 0.93 s\n",
      "Epoch [14/100], Loss: 0.2424 - Train Accuracy: 0.9128 - Val Accuracy: 0.7676 - Epoch time: 0.93 s\n",
      "Epoch [15/100], Loss: 0.2356 - Train Accuracy: 0.9166 - Val Accuracy: 0.7694 - Epoch time: 0.85 s\n",
      "Epoch [16/100], Loss: 0.2247 - Train Accuracy: 0.9244 - Val Accuracy: 0.7694 - Epoch time: 0.88 s\n",
      "Epoch [17/100], Loss: 0.2123 - Train Accuracy: 0.9260 - Val Accuracy: 0.7604 - Epoch time: 0.84 s\n",
      "Epoch [18/100], Loss: 0.2090 - Train Accuracy: 0.9298 - Val Accuracy: 0.7586 - Epoch time: 0.85 s\n",
      "Epoch 00019: reducing learning rate of group 0 to 2.5000e-03.\n",
      "Epoch [19/100], Loss: 0.1979 - Train Accuracy: 0.9371 - Val Accuracy: 0.7640 - Epoch time: 0.86 s\n",
      "Epoch [20/100], Loss: 0.1810 - Train Accuracy: 0.9495 - Val Accuracy: 0.7658 - Epoch time: 0.84 s\n",
      "Epoch [21/100], Loss: 0.1802 - Train Accuracy: 0.9497 - Val Accuracy: 0.7640 - Epoch time: 0.87 s\n",
      "Epoch [22/100], Loss: 0.1789 - Train Accuracy: 0.9499 - Val Accuracy: 0.7676 - Epoch time: 0.85 s\n",
      "No improvement. Breaking out of loop.\n",
      "Total training time: 20.1466 seconds\n"
     ]
    }
   ],
   "source": [
    "start_time = time.time()\n",
    "train_metric_history_static, val_metric_history_static = train(args, model, train_loader, val_loader, optimizer, criterion, scheduler)\n",
    "print(\"Total training time: {:.4f} seconds\".format((time.time() - start_time)))"
   ]
  },
  {
   "cell_type": "code",
   "execution_count": 31,
   "id": "94894562",
   "metadata": {},
   "outputs": [
    {
     "name": "stdout",
     "output_type": "stream",
     "text": [
      "\n",
      "Test Accuracy: 0.7549\n"
     ]
    }
   ],
   "source": [
    "model.load_state_dict(torch.load('static_model/model_best.pt')['state_dict'])\n",
    "model.eval()\n",
    "test_metric_static = model_eval(test_loader, model, gpu=args.use_gpu)\n",
    "print(\"\\nTest Accuracy: {:.4f}\".format(test_metric_static[\"accuracy\"]))"
   ]
  },
  {
   "cell_type": "code",
   "execution_count": 32,
   "id": "50b1fa93",
   "metadata": {},
   "outputs": [
    {
     "data": {
      "image/png": "[encoded data removed]",
      "text/plain": [
       "<Figure size 640x480 with 1 Axes>"
      ]
     },
     "metadata": {},
     "output_type": "display_data"
    }
   ],
   "source": [
    "plt.plot(train_metric_history_static, label='train')\n",
    "plt.plot(val_metric_history_static, label='val')\n",
    "plt.title('CNN Classifier')\n",
    "plt.ylabel('Accuracy')\n",
    "plt.xlabel('# epoch')\n",
    "plt.legend(loc='best')\n",
    "plt.show()"
   ]
  },
  {
   "cell_type": "markdown",
   "id": "fe6fb6c8",
   "metadata": {},
   "source": [
    "# CNN-non-static"
   ]
  },
  {
   "cell_type": "code",
   "execution_count": 33,
   "id": "c16834ed",
   "metadata": {},
   "outputs": [],
   "source": [
    "# Model hyperparameters\n",
    "args.filter_sizes = [3, 4, 5]\n",
    "args.num_filters = 100\n",
    "args.dropout = 0.1\n",
    "\n",
    "# Training hyperparameters\n",
    "args.lr = 1e-2\n",
    "args.num_epochs = 100\n",
    "args.patience = 10\n",
    "\n",
    "# Scheduler hyperparameters\n",
    "args.lr_patience = 5\n",
    "args.lr_factor = 0.5\n",
    "\n",
    "# Saving directory\n",
    "args.savedir = 'non-static_model'\n",
    "os.makedirs(args.savedir, exist_ok=True)\n",
    "\n",
    "# Create model\n",
    "model = CNNTextCls(args, matrix_embeddings, freeze=False)  #Aqui al hacer freeze=false hacemos que los embeddings se entrenen\n",
    "\n",
    "# Send to GPU\n",
    "args.use_gpu = torch.cuda.is_available()\n",
    "if args.use_gpu:\n",
    "    model.cuda()\n",
    "\n",
    "# Loss, Optimizer and Scheduler\n",
    "criterion = nn.BCEWithLogitsLoss()\n",
    "optimizer = torch.optim.SGD(model.parameters(), lr=args.lr)\n",
    "scheduler = torch.optim.lr_scheduler.ReduceLROnPlateau(\n",
    "                optimizer, \"max\",\n",
    "                patience=args.lr_patience,\n",
    "                verbose=True,\n",
    "                factor=args.lr_factor\n",
    "            )"
   ]
  },
  {
   "cell_type": "code",
   "execution_count": 34,
   "id": "fbf4570a",
   "metadata": {},
   "outputs": [
    {
     "name": "stdout",
     "output_type": "stream",
     "text": [
      "Epoch [1/100], Loss: 1.1798 - Train Accuracy: 0.5943 - Val Accuracy: 0.3532 - Epoch time: 0.87 s\n",
      "Epoch [2/100], Loss: 0.7038 - Train Accuracy: 0.6761 - Val Accuracy: 0.5982 - Epoch time: 0.98 s\n",
      "Epoch [3/100], Loss: 0.5978 - Train Accuracy: 0.7031 - Val Accuracy: 0.7207 - Epoch time: 0.95 s\n",
      "Epoch [4/100], Loss: 0.5185 - Train Accuracy: 0.7431 - Val Accuracy: 0.7550 - Epoch time: 0.87 s\n",
      "Epoch [5/100], Loss: 0.4661 - Train Accuracy: 0.7787 - Val Accuracy: 0.7514 - Epoch time: 0.80 s\n",
      "Epoch [6/100], Loss: 0.4485 - Train Accuracy: 0.7831 - Val Accuracy: 0.6378 - Epoch time: 0.90 s\n",
      "Epoch [7/100], Loss: 0.4292 - Train Accuracy: 0.8015 - Val Accuracy: 0.7423 - Epoch time: 0.86 s\n",
      "Epoch [8/100], Loss: 0.3985 - Train Accuracy: 0.8170 - Val Accuracy: 0.7550 - Epoch time: 0.96 s\n",
      "Epoch [9/100], Loss: 0.3733 - Train Accuracy: 0.8346 - Val Accuracy: 0.7532 - Epoch time: 0.96 s\n",
      "Epoch [10/100], Loss: 0.3438 - Train Accuracy: 0.8505 - Val Accuracy: 0.7730 - Epoch time: 0.90 s\n",
      "Epoch [11/100], Loss: 0.3251 - Train Accuracy: 0.8603 - Val Accuracy: 0.7495 - Epoch time: 0.84 s\n",
      "Epoch [12/100], Loss: 0.3025 - Train Accuracy: 0.8787 - Val Accuracy: 0.7712 - Epoch time: 0.87 s\n",
      "Epoch [13/100], Loss: 0.2738 - Train Accuracy: 0.8976 - Val Accuracy: 0.7658 - Epoch time: 0.90 s\n",
      "Epoch [14/100], Loss: 0.2726 - Train Accuracy: 0.8925 - Val Accuracy: 0.7423 - Epoch time: 0.86 s\n",
      "Epoch [15/100], Loss: 0.2446 - Train Accuracy: 0.9064 - Val Accuracy: 0.7586 - Epoch time: 0.80 s\n",
      "Epoch 00016: reducing learning rate of group 0 to 5.0000e-03.\n",
      "Epoch [16/100], Loss: 0.2262 - Train Accuracy: 0.9180 - Val Accuracy: 0.7640 - Epoch time: 0.87 s\n",
      "Epoch [17/100], Loss: 0.1963 - Train Accuracy: 0.9381 - Val Accuracy: 0.7586 - Epoch time: 0.88 s\n",
      "Epoch [18/100], Loss: 0.1841 - Train Accuracy: 0.9435 - Val Accuracy: 0.7586 - Epoch time: 0.88 s\n",
      "Epoch [19/100], Loss: 0.1789 - Train Accuracy: 0.9479 - Val Accuracy: 0.7622 - Epoch time: 0.84 s\n",
      "No improvement. Breaking out of loop.\n",
      "Total training time: 17.6315 seconds\n"
     ]
    }
   ],
   "source": [
    "start_time = time.time()\n",
    "train_metric_history_non, val_metric_history_non = train(args, model, train_loader, val_loader, optimizer, criterion, scheduler)\n",
    "print(\"Total training time: {:.4f} seconds\".format((time.time() - start_time)))"
   ]
  },
  {
   "cell_type": "code",
   "execution_count": 35,
   "id": "b1ccb433",
   "metadata": {},
   "outputs": [
    {
     "name": "stdout",
     "output_type": "stream",
     "text": [
      "\n",
      "Test Accuracy: 0.7305\n"
     ]
    }
   ],
   "source": [
    "model.load_state_dict(torch.load('non-static_model/model_best.pt')['state_dict'])\n",
    "model.eval()\n",
    "test_metric_non = model_eval(test_loader, model, gpu=args.use_gpu)\n",
    "print(\"\\nTest Accuracy: {:.4f}\".format(test_metric_non[\"accuracy\"]))"
   ]
  },
  {
   "cell_type": "code",
   "execution_count": 36,
   "id": "3055bac4",
   "metadata": {},
   "outputs": [
    {
     "data": {
      "image/png": "[encoded data removed]",
      "text/plain": [
       "<Figure size 640x480 with 1 Axes>"
      ]
     },
     "metadata": {},
     "output_type": "display_data"
    }
   ],
   "source": [
    "plt.plot(train_metric_history_non, label='train')\n",
    "plt.plot(val_metric_history_non, label='val')\n",
    "plt.title('CNN Classifier')\n",
    "plt.ylabel('Accuracy')\n",
    "plt.xlabel('# epoch')\n",
    "plt.legend(loc='best')\n",
    "plt.show()"
   ]
  },
  {
   "cell_type": "markdown",
   "id": "325b44f8",
   "metadata": {},
   "source": [
    "### Tabla comparativa entre los tres modelos"
   ]
  },
  {
   "cell_type": "code",
   "execution_count": 37,
   "id": "e7bccc47",
   "metadata": {},
   "outputs": [
    {
     "data": {
      "text/plain": [
       "Text(0, 0.5, 'Validation Accuracy')"
      ]
     },
     "execution_count": 37,
     "metadata": {},
     "output_type": "execute_result"
    },
    {
     "data": {
      "image/png": "[encoded data removed]",
      "text/plain": [
       "<Figure size 640x480 with 1 Axes>"
      ]
     },
     "metadata": {},
     "output_type": "display_data"
    }
   ],
   "source": [
    "plt.plot(val_metric_history_rand, label='rand')\n",
    "plt.plot(val_metric_history_static, label='static')\n",
    "plt.plot(val_metric_history_non, label='non_static')\n",
    "plt.legend()\n",
    "plt.xlabel('Epoch')\n",
    "plt.ylabel('Validation Accuracy')"
   ]
  },
  {
   "cell_type": "markdown",
   "id": "791ae8a4",
   "metadata": {},
   "source": [
    "# Conclusiones\n",
    "\n",
    "En este notebook hemos impletado los modelos static y non-static de redes convolucionales para clasifiación de texto utilizando Pytorch. Se nos fue proporcionado el modelo rand. El primero modelo consiste en utilizar embeddings preentrenados y dejarlos fijos durante el entrenamiento mientras que el segundo consiste en entrenar también dichos embeddings. \n",
    "\n",
    "Como podemos notar de los resultados de test acurracy para los modelos de rand,static y non-static son 0.7451, 0.7549 y 0.7305 respectivamente. Estos valores no difieren en mucho por lo que ninguno mejorar considerablemente al otro. Pero lo que si podemos notar de la última gráfica comparativa es que si hay una gran diferencia en el número de épocas en el que converge nuestro resultado, teniendo una gran mejora cuando utilizamos embeddings preetrenados a compración de utilizar unos aleatorios, es una diferencia de casi 30 épocas. \n",
    "\n",
    "Finalmente, podemos decir que nuestros resultados obtenidos replican muy bien los resultados presentados en el notebook original que nos proprocionó el profe, donde se utilizó tensorflow. "
   ]
  }
 ],
 "metadata": {
  "kernelspec": {
   "display_name": "Python (myenv)",
   "language": "python",
   "name": "myenv"
  },
  "language_info": {
   "codemirror_mode": {
    "name": "ipython",
    "version": 3
   },
   "file_extension": ".py",
   "mimetype": "text/x-python",
   "name": "python",
   "nbconvert_exporter": "python",
   "pygments_lexer": "ipython3",
   "version": "3.8.16"
  }
 },
 "nbformat": 4,
 "nbformat_minor": 5
}
